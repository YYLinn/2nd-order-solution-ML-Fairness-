{
 "cells": [
  {
   "cell_type": "code",
   "execution_count": 2,
   "metadata": {},
   "outputs": [],
   "source": [
    "## Load required packages\n",
    "import pandas as pd\n",
    "import numpy as np\n",
    "import matplotlib.pyplot as plt\n",
    "import matplotlib.ticker as mtick\n",
    "from collections import defaultdict\n",
    "\n",
    "\n",
    "## xgboost model\n",
    "import pickle\n",
    "import xgboost as xgb\n",
    "import scipy.stats as stats\n",
    "from sklearn.model_selection import RandomizedSearchCV\n",
    "\n",
    "# Dataset\n",
    "from aif360.datasets import BinaryLabelDataset\n",
    "\n",
    "# Dataset repo from UCI\n",
    "from ucimlrepo import fetch_ucirepo \n",
    "from aif360.datasets import AdultDataset, StandardDataset\n",
    "\n",
    "# Fairness metrics\n",
    "from aif360.metrics import BinaryLabelDatasetMetric\n",
    "from aif360.metrics import ClassificationMetric\n",
    "\n",
    "# Explainers\n",
    "from aif360.explainers import MetricTextExplainer\n",
    "\n",
    "# Scalers\n",
    "from sklearn.preprocessing import StandardScaler\n",
    "\n",
    "# Bias mitigation techniques\n",
    "from aif360.algorithms.preprocessing import Reweighing\n",
    "from aif360.algorithms.preprocessing import DisparateImpactRemover\n",
    "from aif360.algorithms.preprocessing import LFR\n",
    "from aif360.algorithms.preprocessing import OptimPreproc\n",
    "from aif360.algorithms.preprocessing.optim_preproc_helpers.opt_tools import OptTools\n",
    "\n",
    "# Odds equalizing post-processing algorithm\n",
    "from aif360.algorithms.postprocessing.calibrated_eq_odds_postprocessing import CalibratedEqOddsPostprocessing\n",
    "from aif360.algorithms.postprocessing.reject_option_classification import RejectOptionClassification\n",
    "from tqdm import tqdm\n",
    "\n",
    "import warnings\n",
    "warnings.filterwarnings(\"ignore\")\n",
    "warnings.simplefilter(action='ignore', category=FutureWarning)\n",
    "\n",
    "# Import tensorflow session\n",
    "import tensorflow.compat.v1 as tf\n",
    "tf.disable_eager_execution()"
   ]
  },
  {
   "cell_type": "code",
   "execution_count": 3,
   "metadata": {},
   "outputs": [],
   "source": [
    "\n",
    "\n",
    "def test(dataset, model, thresh_arr, unprivileged_groups, privileged_groups):\n",
    "    try:\n",
    "        # sklearn classifier\n",
    "        y_val_pred_prob = model.predict_proba(dataset.features)\n",
    "        pos_ind = 1\n",
    "    except AttributeError:\n",
    "        # aif360 inprocessing algorithm\n",
    "        y_val_pred_prob = model.predict(dataset).scores\n",
    "        pos_ind = 0\n",
    "    \n",
    "    metric_arrs = defaultdict(list)\n",
    "    for thresh in thresh_arr:\n",
    "        y_val_pred = (y_val_pred_prob[:, pos_ind] > thresh).astype(np.float64)\n",
    "\n",
    "        dataset_pred = dataset.copy()\n",
    "        dataset_pred.labels = y_val_pred\n",
    "        metric = ClassificationMetric(\n",
    "                dataset, dataset_pred,\n",
    "                unprivileged_groups=unprivileged_groups,\n",
    "                privileged_groups=privileged_groups)\n",
    "\n",
    "        ## Balanced Accuracy (TPR + TNR)/2\n",
    "        metric_arrs['acc'].append(metric.accuracy())\n",
    "        metric_arrs['bal_acc'].append((metric.true_positive_rate()\n",
    "                                     + metric.true_negative_rate()) / 2)\n",
    "        metric_arrs['threshold_value'].append(thresh)\n",
    "        ## calculate F1 score \n",
    "        metric_arrs['F1_score'].append(2 *((metric.precision()*metric.recall())/(metric.precision()+metric.recall())))\n",
    "        metric_arrs['false_omission_rate'].append(metric.false_omission_rate())\n",
    "        metric_arrs['false_omission_rate_ratio'].append(metric.false_omission_rate_ratio())\n",
    "        ## Average Odds Difference (average difference between TPR and TNR of groups)\n",
    "        metric_arrs['avg_odds_diff'].append(metric.average_odds_difference())\n",
    "        ## Whether ratio of favorable outcome is consistent\n",
    "        metric_arrs['disp_imp'].append(metric.disparate_impact())\n",
    "        ## Difference in probability of receiving favorable outcome\n",
    "        metric_arrs['stat_par_diff'].append(metric.statistical_parity_difference())\n",
    "        ## Whether individual have equal chances of receiving positive outcome when they should\n",
    "        metric_arrs['eq_opp_diff'].append(metric.equal_opportunity_difference())\n",
    "        ## Measure inequality of model errors across group\n",
    "        metric_arrs['theil_ind'].append(metric.theil_index())\n",
    "    \n",
    "    return metric_arrs"
   ]
  },
  {
   "cell_type": "code",
   "execution_count": 4,
   "metadata": {},
   "outputs": [],
   "source": [
    "def plot_results(x, x_name, y_left, y_left_name, y_right, y_right_name, title = None):\n",
    "    fig, ax1 = plt.subplots(figsize=(10,7))\n",
    "    ax1.plot(x, y_left)\n",
    "    ax1.set_xlabel(x_name, fontsize=16, fontweight='bold')\n",
    "    ax1.set_ylabel(y_left_name, color='b', fontsize=16, fontweight='bold')\n",
    "    ax1.xaxis.set_tick_params(labelsize=14)\n",
    "    ax1.yaxis.set_tick_params(labelsize=14)\n",
    "    ax1.set_ylim(0.5, 0.8)\n",
    "\n",
    "    ax2 = ax1.twinx()\n",
    "    ax2.plot(x, y_right, color='r')\n",
    "    ax2.set_ylabel(y_right_name, color='r', fontsize=16, fontweight='bold')\n",
    "    if 'DI' in y_right_name:\n",
    "        ax2.set_ylim(0., 0.7)\n",
    "    else:\n",
    "        ax2.set_ylim(-0.25, 0.1)\n",
    "\n",
    "    best_ind = np.argmax(y_left)\n",
    "    ax2.axvline(np.array(x)[best_ind], color='k', linestyle=':')\n",
    "    ax2.yaxis.set_tick_params(labelsize=14)\n",
    "    ax2.grid(True)\n",
    "    if title is not None:\n",
    "        ax1.set_title(title)"
   ]
  },
  {
   "cell_type": "markdown",
   "metadata": {},
   "source": [
    "## Comparison of the Four Pre-Processing Methods in AIF360\n",
    "\n",
    "#### This report is performed on the adult dataset on race as a protected attribute. Same analysis can be performed for sex, and both race and sex as protected attributes. \n",
    "#### Here we compare as many methods as we can from AIF360 to get a comprehensive evaluation of how well the model performs on the Adult dataset.\n"
   ]
  },
  {
   "cell_type": "code",
   "execution_count": 4,
   "metadata": {},
   "outputs": [
    {
     "name": "stderr",
     "output_type": "stream",
     "text": [
      "WARNING:root:Missing Data: 3620 rows removed from AdultDataset.\n"
     ]
    }
   ],
   "source": [
    "# fetch dataset \n",
    "adult = AdultDataset()  "
   ]
  },
  {
   "cell_type": "code",
   "execution_count": 5,
   "metadata": {},
   "outputs": [],
   "source": [
    "# Convert Adult dataset to a binary dataset\n",
    "## Read any data for testing into a dataframe and feed into binary label dataset\n",
    "data = adult.convert_to_dataframe()[0]"
   ]
  },
  {
   "cell_type": "code",
   "execution_count": 6,
   "metadata": {},
   "outputs": [],
   "source": [
    "# Initiate the binary label dataset - AIF360 convention\n",
    "binary_data = BinaryLabelDataset(\n",
    "    favorable_label=1,\n",
    "    unfavorable_label=0,\n",
    "    df = data,\n",
    "    label_names = [\"income-per-year\"],\n",
    "    protected_attribute_names = [\"race\"],\n",
    ")\n",
    "\n",
    "# Split data into training and testing sets\n",
    "data_train, data_test = binary_data.split([0.7], shuffle=True)\n",
    "\n",
    "unprivileged_groups=[{ \"race\":0}]\n",
    "privileged_groups=[{ \"race\":1}]\n",
    "\n",
    "\n",
    "# For both race and sex \n",
    "# # Set unpriviledged groups and priviledged groups\n",
    "# unprivileged_groups=[{\"race\":0, \"sex\":0}]\n",
    "# privileged_groups=[{\"race\":1, \"sex\":1}]\n",
    "\n",
    "## for sex set unpriviledged groups and priviledged groups\n",
    "\n",
    "# unprivileged_groups=[{ \"sex\":0}]\n",
    "# privileged_groups=[{ \"sex\":1}]\n"
   ]
  },
  {
   "cell_type": "markdown",
   "metadata": {},
   "source": [
    "### Make base model to assess Disparate Impact"
   ]
  },
  {
   "cell_type": "code",
   "execution_count": 7,
   "metadata": {},
   "outputs": [],
   "source": [
    "X_train = data_train.convert_to_dataframe()[0].drop(columns = [\"income-per-year\"])\n",
    "y_train = data_train.convert_to_dataframe()[0][\"income-per-year\"]\n",
    "X_test = data_test.convert_to_dataframe()[0].drop(columns = [\"income-per-year\"])\n",
    "y_test = data_test.convert_to_dataframe()[0][\"income-per-year\"]\n",
    "\n",
    "## Build model \n",
    "xgb_model = xgb.XGBClassifier(random_state = 2023)\n",
    "param_dist = {\n",
    "    'max_depth': stats.randint(3, 10),\n",
    "    'learning_rate': stats.uniform(0.01, 0.1),\n",
    "    'subsample': stats.uniform(0.5, 0.5),\n",
    "    'n_estimators':stats.randint(50, 200)\n",
    "}\n",
    "\n",
    "## Conduct Random Search\n",
    "random_search = RandomizedSearchCV(xgb_model, \n",
    "                                   param_distributions=param_dist, \n",
    "                                   n_iter = 10, \n",
    "                                   cv = 5, \n",
    "                                   scoring=\"roc_auc\",\n",
    "                                   random_state=2023)\n",
    "random_search.fit(X_train, y_train)\n",
    "best_xgb_original = random_search.best_estimator_\n",
    "thresh_arr = np.linspace(0.01, 0.5, 50)\n",
    "\n"
   ]
  },
  {
   "cell_type": "code",
   "execution_count": 8,
   "metadata": {},
   "outputs": [
    {
     "name": "stdout",
     "output_type": "stream",
     "text": [
      "{'name': 'Vanilla XGBoost', 'balanced accuracy': 0.8445971910713803, 'disparate impact': 0.5242813547920613, 'accuracy': 0.834303825458834, 'F1_score': 0.7159464240586304, 'false_omission_rate': 0.049720044792833144, 'false_omission_rate_ratio': 0.5952819332566168, 'threshold_value': 0.27}\n"
     ]
    }
   ],
   "source": [
    "## Generate Metrics\n",
    "val_metrics = test(dataset=data_test,\n",
    "                   model=best_xgb_original,\n",
    "                   thresh_arr=thresh_arr,\n",
    "                   unprivileged_groups=unprivileged_groups,\n",
    "                   privileged_groups=privileged_groups)\n",
    "\n",
    "# lr_orig_best_ind = np.argmax(val_metrics['bal_acc'])\n",
    "lr_orig_best_ind = np.argmax(val_metrics['bal_acc'])\n",
    "\n",
    "original_metrics = {\n",
    "    \"name\":\"Vanilla XGBoost\",\n",
    "    \"balanced accuracy\":val_metrics[\"bal_acc\"][lr_orig_best_ind],\n",
    "    \"disparate impact\":val_metrics[\"disp_imp\"][lr_orig_best_ind],\n",
    "    \"accuracy\":val_metrics[\"acc\"][lr_orig_best_ind],\n",
    "    \"F1_score\":val_metrics[\"F1_score\"][lr_orig_best_ind],\n",
    "    \"false_omission_rate\":val_metrics[\"false_omission_rate\"][lr_orig_best_ind],\n",
    "    \"false_omission_rate_ratio\":val_metrics[\"false_omission_rate_ratio\"][lr_orig_best_ind],\n",
    "    \"threshold_value\": val_metrics[\"threshold_value\"][lr_orig_best_ind],\n",
    "}\n",
    "print(original_metrics)"
   ]
  },
  {
   "cell_type": "markdown",
   "metadata": {},
   "source": [
    "### Use Reweighting Scheme\n"
   ]
  },
  {
   "cell_type": "code",
   "execution_count": 9,
   "metadata": {},
   "outputs": [],
   "source": [
    "RW = Reweighing(unprivileged_groups=unprivileged_groups,\n",
    "                privileged_groups=privileged_groups)\n",
    "RW.fit(data_train)\n",
    "data_train_reweighed = RW.transform(data_train)\n",
    "\n",
    "X_train = data_train_reweighed.convert_to_dataframe()[0].drop(columns = [\"income-per-year\"])\n",
    "y_train = data_train_reweighed.convert_to_dataframe()[0][\"income-per-year\"]\n",
    "X_test = data_train_reweighed.convert_to_dataframe()[0].drop(columns = [\"income-per-year\"])\n",
    "y_test = data_train_reweighed.convert_to_dataframe()[0][\"income-per-year\"]\n",
    "\n",
    "## Build model \n",
    "xgb_model = xgb.XGBClassifier()\n",
    "param_dist = {\n",
    "    'max_depth': stats.randint(3, 10),\n",
    "    'learning_rate': stats.uniform(0.01, 0.1),\n",
    "    'subsample': stats.uniform(0.5, 0.5),\n",
    "    'n_estimators':stats.randint(50, 200)\n",
    "}\n",
    "\n",
    "## Conduct Random Search\n",
    "fit_param = {\"sample_weight\":data_train_reweighed.instance_weights}\n",
    "random_search = RandomizedSearchCV(xgb_model, \n",
    "                                   param_distributions=param_dist, \n",
    "                                   n_iter = 10, \n",
    "                                   cv = 5, \n",
    "                                   scoring=\"roc_auc\", \n",
    "                                   random_state=2023)\n",
    "random_search.fit(X_train, y_train, **fit_param)\n",
    "best_xgb_reweighed = random_search.best_estimator_\n",
    "thresh_arr = np.linspace(0.01, 0.5, 50)\n",
    "\n"
   ]
  },
  {
   "cell_type": "code",
   "execution_count": 10,
   "metadata": {},
   "outputs": [
    {
     "name": "stdout",
     "output_type": "stream",
     "text": [
      "{'name': 'XGBoost after Reweighting', 'balanced accuracy': 0.8435905579808975, 'disparate impact': 0.6423257025790379, 'accuracy': 0.8245743347829292, 'F1_score': 0.7079754601226994, 'false_omission_rate': 0.04508856682769726, 'false_omission_rate_ratio': 0.4926419632301985, 'threshold_value': 0.24000000000000002}\n"
     ]
    }
   ],
   "source": [
    "## Generate Metrics\n",
    "val_metrics_reweigh = test(dataset=data_test,\n",
    "                   #### Change Model ####\n",
    "                   model=best_xgb_reweighed,\n",
    "                   thresh_arr=thresh_arr,\n",
    "                   unprivileged_groups=unprivileged_groups,\n",
    "                   privileged_groups=privileged_groups)\n",
    "lr_reweight_best_ind = np.argmax(val_metrics_reweigh['bal_acc'])\n",
    "#### Change Metric name ####\n",
    "reweight_metrics = {\n",
    "    #### Change Name ####\n",
    "    \"name\":\"XGBoost after Reweighting\",\n",
    "    \"balanced accuracy\":val_metrics_reweigh[\"bal_acc\"][lr_reweight_best_ind],\n",
    "    \"disparate impact\":val_metrics_reweigh[\"disp_imp\"][lr_reweight_best_ind],\n",
    "    \"accuracy\":val_metrics_reweigh[\"acc\"][lr_reweight_best_ind],\n",
    "    \"F1_score\":val_metrics_reweigh[\"F1_score\"][lr_reweight_best_ind],\n",
    "    \"false_omission_rate\":val_metrics_reweigh[\"false_omission_rate\"][lr_reweight_best_ind],\n",
    "    \"false_omission_rate_ratio\":val_metrics_reweigh[\"false_omission_rate_ratio\"][lr_reweight_best_ind],\n",
    "    \"threshold_value\": val_metrics_reweigh[\"threshold_value\"][lr_reweight_best_ind],\n",
    "}\n",
    "print(reweight_metrics)"
   ]
  },
  {
   "cell_type": "markdown",
   "metadata": {},
   "source": [
    "### Preprocessing: LFR\n",
    "\n",
    "Use Learned Feature Representation to create new fairer feature independent of protected variables."
   ]
  },
  {
   "cell_type": "code",
   "execution_count": 11,
   "metadata": {},
   "outputs": [],
   "source": [
    "lfr = LFR(unprivileged_groups=unprivileged_groups,\n",
    "                privileged_groups=privileged_groups)\n",
    "lfr.fit(data_train)\n",
    "data_train_lfr = lfr.transform(data_train)\n",
    "\n",
    "X_train = data_train_lfr.convert_to_dataframe()[0].drop(columns = [\"income-per-year\"])\n",
    "y_train = data_train_lfr.convert_to_dataframe()[0][\"income-per-year\"]\n",
    "X_test = data_train_lfr.convert_to_dataframe()[0].drop(columns = [\"income-per-year\"])\n",
    "y_test = data_train_lfr.convert_to_dataframe()[0][\"income-per-year\"]\n",
    "\n",
    "## Build model \n",
    "xgb_model = xgb.XGBClassifier(random_state = 2023)\n",
    "param_dist = {\n",
    "    'max_depth': stats.randint(3, 10),\n",
    "    'learning_rate': stats.uniform(0.01, 0.1),\n",
    "    'subsample': stats.uniform(0.5, 0.5),\n",
    "    'n_estimators':stats.randint(50, 200)\n",
    "}\n",
    "\n",
    "## Conduct Random Search\n",
    "random_search = RandomizedSearchCV(xgb_model, \n",
    "                                   param_distributions=param_dist, \n",
    "                                   n_iter = 10, \n",
    "                                   cv = 5, \n",
    "                                   scoring=\"roc_auc\")\n",
    "random_search.fit(X_train, y_train)\n",
    "best_xgb_lfr = random_search.best_estimator_\n",
    "thresh_arr = np.linspace(0.01, 0.5, 50)\n",
    "\n"
   ]
  },
  {
   "cell_type": "code",
   "execution_count": 12,
   "metadata": {},
   "outputs": [
    {
     "name": "stderr",
     "output_type": "stream",
     "text": [
      "/opt/miniconda3/lib/python3.10/site-packages/aif360/metrics/dataset_metric.py:82: RuntimeWarning: invalid value encountered in double_scalars\n",
      "  return metric_fun(privileged=False) / metric_fun(privileged=True)\n"
     ]
    },
    {
     "name": "stdout",
     "output_type": "stream",
     "text": [
      "{'name': 'XGBoost with Learning Fair Representations', 'balanced accuracy': 0.5, 'disparate impact': 1.0, 'accuracy': 0.24154197685560552, 'F1_score': 0.38909997625267156, 'false_omission_rate': 0.0, 'false_omission_rate_ratio': nan, 'threshold_value': 0.01}\n"
     ]
    }
   ],
   "source": [
    "## Generate Metrics\n",
    "val_metrics_lfr = test(dataset=data_test,\n",
    "                   #### Change Model ####\n",
    "                   model=best_xgb_lfr,\n",
    "                   thresh_arr=thresh_arr,\n",
    "                   unprivileged_groups=unprivileged_groups,\n",
    "                   privileged_groups=privileged_groups)\n",
    "lr_lfr_best_ind = np.argmax(val_metrics_lfr['bal_acc'])\n",
    "#### Change Metric name ####\n",
    "lfr_metrics = {\n",
    "    #### Change Name ####\n",
    "    \"name\":\"XGBoost with Learning Fair Representations\",\n",
    "    \"balanced accuracy\":val_metrics_lfr[\"bal_acc\"][lr_lfr_best_ind],\n",
    "    \"disparate impact\":val_metrics_lfr[\"disp_imp\"][lr_lfr_best_ind],\n",
    "    \"accuracy\":val_metrics_lfr[\"acc\"][lr_lfr_best_ind],\n",
    "    \"F1_score\":val_metrics_lfr[\"F1_score\"][lr_lfr_best_ind],\n",
    "    \"false_omission_rate\":val_metrics_lfr[\"false_omission_rate\"][lr_lfr_best_ind],\n",
    "    \"false_omission_rate_ratio\":val_metrics_lfr[\"false_omission_rate_ratio\"][lr_lfr_best_ind],\n",
    "    \"threshold_value\": val_metrics_lfr[\"threshold_value\"][lr_lfr_best_ind]\n",
    "}\n",
    "\n",
    "\n",
    "print(lfr_metrics)"
   ]
  },
  {
   "cell_type": "markdown",
   "metadata": {},
   "source": [
    "### Using Disparate Impact Remover"
   ]
  },
  {
   "cell_type": "code",
   "execution_count": 13,
   "metadata": {},
   "outputs": [],
   "source": [
    "# choose repair level as needed, repair level = 1, full repair\n",
    "\n",
    "di = DisparateImpactRemover(repair_level=1, sensitive_attribute=\"race\")\n",
    "data_train_di = di.fit_transform(data_train)\n",
    "data_test_di = di.fit_transform(data_test)\n",
    "\n",
    "\n",
    "X_train = data_train_di.convert_to_dataframe()[0].drop(columns = [\"income-per-year\"])\n",
    "y_train = data_train_di.convert_to_dataframe()[0][\"income-per-year\"]\n",
    "X_test = data_test_di.convert_to_dataframe()[0].drop(columns = [\"income-per-year\"])\n",
    "y_test = data_test_di.convert_to_dataframe()[0][\"income-per-year\"]\n",
    "\n",
    "## Build model \n",
    "xgb_model = xgb.XGBClassifier(random_state = 2023)\n",
    "param_dist = {\n",
    "    'max_depth': stats.randint(3, 10),\n",
    "    'learning_rate': stats.uniform(0.01, 0.1),\n",
    "    'subsample': stats.uniform(0.5, 0.5),\n",
    "    'n_estimators':stats.randint(50, 200)\n",
    "}\n",
    "\n",
    "## Conduct Random Search\n",
    "random_search = RandomizedSearchCV(xgb_model, \n",
    "                                   param_distributions=param_dist, \n",
    "                                   n_iter = 10, \n",
    "                                   cv = 5, \n",
    "                                   scoring=\"roc_auc\")\n",
    "random_search.fit(X_train, y_train)\n",
    "best_xgb_di = random_search.best_estimator_\n",
    "thresh_arr = np.linspace(0.01, 0.5, 50)\n",
    "\n"
   ]
  },
  {
   "cell_type": "code",
   "execution_count": 14,
   "metadata": {},
   "outputs": [
    {
     "name": "stdout",
     "output_type": "stream",
     "text": [
      "{'name': 'XGBoost with Disparate Impact Remover', 'balanced accuracy': 0.8367517459052151, 'accuracy': 0.820667796860028, 'disparate impact': 0.45746222909402207, 'F1_score': 0.7004063538973033, 'false_omission_rate': 0.04963888570445948, 'false_omission_rate_ratio': 0.8346794275703784, 'threshold_value': 0.29000000000000004}\n"
     ]
    }
   ],
   "source": [
    "\n",
    "\n",
    "## Generate Metrics\n",
    "val_metrics = test(dataset=data_test,\n",
    "                   #### Change Model ####\n",
    "                   model=best_xgb_di,\n",
    "                   thresh_arr=thresh_arr,\n",
    "                   unprivileged_groups=unprivileged_groups,\n",
    "                   privileged_groups=privileged_groups )\n",
    "lr_di_best_ind = np.argmax(val_metrics['bal_acc'])\n",
    "di_metrics = {\n",
    "    #### Change Name ####\n",
    "    \"name\":\"XGBoost with Disparate Impact Remover\",\n",
    "    ### Change the indices here ####\n",
    "    \"balanced accuracy\":val_metrics[\"bal_acc\"][lr_di_best_ind],\n",
    "    \"accuracy\":val_metrics[\"acc\"][lr_di_best_ind],\n",
    "    \"disparate impact\":val_metrics[\"disp_imp\"][lr_di_best_ind],\n",
    "    \"F1_score\":val_metrics[\"F1_score\"][lr_di_best_ind],\n",
    "    \"false_omission_rate\":val_metrics[\"false_omission_rate\"][lr_di_best_ind],\n",
    "    \"false_omission_rate_ratio\":val_metrics[\"false_omission_rate_ratio\"][lr_di_best_ind],\n",
    "    \"threshold_value\": val_metrics[\"threshold_value\"][lr_di_best_ind],\n",
    "}\n",
    "#### Change the print statement ####\n",
    "print(di_metrics)\n",
    "\n"
   ]
  },
  {
   "cell_type": "markdown",
   "metadata": {},
   "source": [
    "### Try Post-Processing Methods 1: Calibrated Equality of Odds"
   ]
  },
  {
   "cell_type": "code",
   "execution_count": 15,
   "metadata": {},
   "outputs": [
    {
     "name": "stdout",
     "output_type": "stream",
     "text": [
      "{'name': 'Calibrated Equality of Odds', 'balanced accuracy': 0.21610568461222057, 'disparate impact': 0.9275685459528873, 'false_omission_rate': 0.6967741935483871, 'accuracy': 0.15161789636618264, 'F1_score': 0.16254365541327123, 'false_omission_rate_ratio': 0.4374751551845396}\n"
     ]
    }
   ],
   "source": [
    "### Learn parameters to equalize odds and apply to create a new dataset\n",
    "dataset_test_cpp = data_test.copy(deepcopy=True)\n",
    "cost_constraint = \"fnr\"\n",
    "# Make predictions using original xgboost model\n",
    "y_pred_original_prob = best_xgb_original.predict_proba(data_test.features)[:,0]\n",
    "dataset_test_cpp.scores = y_pred_original_prob.reshape(-1,1)\n",
    "### Get labels\n",
    "best_threshold = thresh_arr[lr_orig_best_ind]\n",
    "y_test_pred_original = np.zeros_like(dataset_test_cpp.labels)\n",
    "y_test_pred_original[y_pred_original_prob >= best_threshold] = dataset_test_cpp.favorable_label\n",
    "y_test_pred_original[~(y_pred_original_prob >= best_threshold)] = dataset_test_cpp.unfavorable_label\n",
    "dataset_test_cpp.labels = y_test_pred_original\n",
    "\n",
    "\n",
    "cpp = CalibratedEqOddsPostprocessing(privileged_groups = privileged_groups,\n",
    "                                     unprivileged_groups = unprivileged_groups,\n",
    "                                     cost_constraint=cost_constraint,\n",
    "                                     seed=2023)\n",
    "\n",
    "# Fit and transform using calibrated equality of odds\n",
    "cpp = cpp.fit(data_test, dataset_test_cpp)\n",
    "data_test_cpp_new = cpp.predict(dataset_test_cpp)\n",
    "## Get classification accuracy and fairness metric\n",
    "cm_transf_valid = ClassificationMetric(data_test, data_test_cpp_new,\n",
    "                             unprivileged_groups=unprivileged_groups,\n",
    "                             privileged_groups=privileged_groups)\n",
    "cp_tp = cm_transf_valid.true_positive_rate()\n",
    "cp_tn = cm_transf_valid.true_negative_rate()\n",
    "cp_fp = cm_transf_valid.false_positive_rate()\n",
    "cp_fn = cm_transf_valid.false_negative_rate()\n",
    "cp_pre = cm_transf_valid.precision()\n",
    "cp_rec = cm_transf_valid.recall()\n",
    "\n",
    "cp_balanced_acc = (cp_tp + cp_tn)/2\n",
    "cp_f1_score = 2 * (cp_pre  * cp_rec) / (cp_pre  + cp_rec)\n",
    "cp_metrics = {\n",
    "    #### Change Name ####\n",
    "    \"name\":\"Calibrated Equality of Odds\",\n",
    "    ### Change the indices here ####\n",
    "    \"balanced accuracy\":cp_balanced_acc,\n",
    "    \"disparate impact\":cm_transf_valid.disparate_impact(),\n",
    "    \"false_omission_rate\":cm_transf_valid.false_omission_rate(),\n",
    "    \"accuracy\":cm_transf_valid.accuracy(),\n",
    "    \"F1_score\": cp_f1_score,\n",
    "    \"false_omission_rate_ratio\":cm_transf_valid.false_omission_rate_ratio(),\n",
    "\n",
    "\n",
    "}\n",
    "print(cp_metrics)"
   ]
  },
  {
   "cell_type": "markdown",
   "metadata": {},
   "source": [
    "### Reject Options Classification"
   ]
  },
  {
   "cell_type": "code",
   "execution_count": 16,
   "metadata": {},
   "outputs": [
    {
     "name": "stdout",
     "output_type": "stream",
     "text": [
      "{'name': 'Reject Option Classification', 'balanced accuracy': 0.4277263449082497, 'disparate impact': 1.020129071437315, 'false_omission_rate': 0.9978947368421053, 'accuracy': 0.2066779686002801, 'F1_score': 0.342476632659295, 'false_omission_rate_ratio': 0.9714285714285714}\n"
     ]
    }
   ],
   "source": [
    "roc = RejectOptionClassification(\n",
    "    unprivileged_groups,\n",
    "    privileged_groups\n",
    ")\n",
    "data_test_roc = roc.fit_predict(data_test, dataset_test_cpp)\n",
    "\n",
    "## Get classification accuracy and fairness metric\n",
    "cm_roc = ClassificationMetric(data_test, \n",
    "                              data_test_roc,\n",
    "                             unprivileged_groups=unprivileged_groups,\n",
    "                             privileged_groups=privileged_groups)\n",
    "roc_tp = cm_roc.true_positive_rate()\n",
    "roc_tn = cm_roc.true_negative_rate()\n",
    "roc_fp = cm_roc.false_positive_rate()\n",
    "roc_fn = cm_roc.false_negative_rate()\n",
    "roc_pre = cm_roc.precision()\n",
    "roc_rec = cm_roc.recall()\n",
    "roc_balanced_acc = (roc_tp + roc_tn)/2\n",
    "roc_f1_score = 2 * (roc_pre  * roc_rec) / (roc_pre  + roc_rec)\n",
    "roc_metrics = {\n",
    "    #### Change Name ####\n",
    "    \"name\":\"Reject Option Classification\",\n",
    "    ### Change the indices here ####\n",
    "    \"balanced accuracy\":roc_balanced_acc,\n",
    "    \"disparate impact\":cm_roc.disparate_impact(),\n",
    "    \"false_omission_rate\":cm_roc.false_omission_rate(),\n",
    "    \"accuracy\":cm_roc.accuracy(),\n",
    "    \"F1_score\": roc_f1_score,\n",
    "    \"false_omission_rate_ratio\":cm_roc.false_omission_rate_ratio(),\n",
    "}\n",
    "print(roc_metrics)"
   ]
  },
  {
   "cell_type": "markdown",
   "metadata": {},
   "source": [
    "## Plots"
   ]
  },
  {
   "cell_type": "code",
   "execution_count": 17,
   "metadata": {},
   "outputs": [],
   "source": [
    "# Define plotting parameters\n",
    "%matplotlib inline\n",
    "plt.rcParams['figure.dpi'] = 200\n",
    "plt.rcParams['savefig.dpi'] = 200"
   ]
  },
  {
   "cell_type": "code",
   "execution_count": 18,
   "metadata": {},
   "outputs": [],
   "source": [
    "dicts = [original_metrics, reweight_metrics, lfr_metrics, di_metrics, cp_metrics, roc_metrics]\n",
    "super_dict = {}\n",
    "for d in dicts:\n",
    "    for k, v in d.items():  # d.items() in Python 3+\n",
    "        super_dict.setdefault(k, []).append(v)"
   ]
  },
  {
   "cell_type": "code",
   "execution_count": 19,
   "metadata": {},
   "outputs": [],
   "source": [
    "import json\n",
    "# Serializing json\n",
    "json_object = json.dumps(super_dict, indent=4)\n",
    " \n",
    "# Writing to sample.json\n",
    "with open(\"aif_compare_race_bal_acc.json\", \"w\") as outfile:\n",
    "    outfile.write(json_object)\n"
   ]
  },
  {
   "cell_type": "code",
   "execution_count": 6,
   "metadata": {},
   "outputs": [],
   "source": [
    "import json\n",
    "# Opening JSON file\n",
    "with open('aif_compare_race_bal_acc.json', 'r') as openfile:\n",
    "    # Reading from json file\n",
    "    aif_compare = json.load(openfile)"
   ]
  },
  {
   "cell_type": "code",
   "execution_count": 7,
   "metadata": {},
   "outputs": [
    {
     "data": {
      "image/png": "[encoded data removed]",
      "text/plain": [
       "<Figure size 1000x500 with 2 Axes>"
      ]
     },
     "metadata": {},
     "output_type": "display_data"
    }
   ],
   "source": [
    "\n",
    "\n",
    "fig, axes = plt.subplots(1,2,figsize = (10,5), sharey = True)\n",
    "axes[0].barh(np.arange(len(aif_compare[\"name\"])), np.array(aif_compare[\"balanced accuracy\"]) * 100)\n",
    "axes[0].set_yticks(np.arange(len(aif_compare[\"name\"])), labels=aif_compare[\"name\"])\n",
    "axes[0].axvline(x = aif_compare[\"balanced accuracy\"][0] * 100, linestyle = \"dashed\", c = \"red\")\n",
    "axes[0].xaxis.set_major_formatter(mtick.PercentFormatter())\n",
    "axes[0].set_title(\"Balanced Accuracy\")\n",
    "\n",
    "axes[1].barh(np.arange(len(aif_compare[\"name\"])), np.array(aif_compare[\"disparate impact\"]) * 100)\n",
    "axes[1].set_yticks(np.arange(len(aif_compare[\"name\"])), labels=aif_compare[\"name\"])\n",
    "axes[1].axvline(x = aif_compare[\"disparate impact\"][0] * 100, linestyle = \"dashed\", c = \"red\", label = \"Vanilla Baseline\")\n",
    "axes[1].set_title(\"Disparate Impact\")\n",
    "axes[1].xaxis.set_major_formatter(mtick.PercentFormatter())\n",
    "axes[1].legend()\n",
    "\n",
    "fig.suptitle(\"AIF360 Fairness Mitigation Metrics\")\n",
    "plt.show()\n"
   ]
  }
 ],
 "metadata": {
  "kernelspec": {
   "display_name": "Python 3.10.13 ('base')",
   "language": "python",
   "name": "python3"
  },
  "language_info": {
   "codemirror_mode": {
    "name": "ipython",
    "version": 3
   },
   "file_extension": ".py",
   "mimetype": "text/x-python",
   "name": "python",
   "nbconvert_exporter": "python",
   "pygments_lexer": "ipython3",
   "version": "3.10.13"
  },
  "vscode": {
   "interpreter": {
    "hash": "3d597f4c481aa0f25dceb95d2a0067e73c0966dcbd003d741d821a7208527ecf"
   }
  }
 },
 "nbformat": 4,
 "nbformat_minor": 2
}

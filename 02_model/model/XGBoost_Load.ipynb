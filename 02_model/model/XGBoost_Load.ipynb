{
 "cells": [
  {
   "cell_type": "code",
   "execution_count": 1,
   "id": "173a480d-ef3a-4fc2-92c5-8471c9d98286",
   "metadata": {
    "tags": []
   },
   "outputs": [],
   "source": [
    "#!pip install xgboost\n",
    "#!pip install scikit-learn\n",
    "#!pip install xgboost\n",
    "\n",
    "import numpy as np\n",
    "from numpy import loadtxt\n",
    "from xgboost import XGBClassifier\n",
    "from sklearn.model_selection import train_test_split\n",
    "from sklearn.metrics import accuracy_score, precision_score, recall_score, f1_score\n",
    "from sklearn.metrics import roc_curve, auc\n",
    "from scipy import stats\n",
    "import pandas as pd\n",
    "import xgboost as xgb\n",
    "import pickle"
   ]
  },
  {
   "cell_type": "markdown",
   "id": "371f23eb-f780-43f9-aa16-e2816117a3a6",
   "metadata": {},
   "source": [
    "## Load Model"
   ]
  },
  {
   "cell_type": "code",
   "execution_count": 2,
   "id": "4fd957cc-a7f5-4ed6-bb91-246532f05d09",
   "metadata": {
    "tags": []
   },
   "outputs": [],
   "source": [
    "# load model 1\n",
    "model1 = pickle.load(open(\"../model/Model1.pkl\", \"rb\"))\n",
    "data1 = pickle.load(open(\"../model/Model1_data.pkl\", \"rb\"))\n",
    "y_test1, y_pred1, predicted_prob1, col_X_train1, X_train1, X_test1, y_train1 = data1"
   ]
  },
  {
   "cell_type": "code",
   "execution_count": 3,
   "id": "9da91b81-50e6-4b7d-bb0e-84134bb75730",
   "metadata": {
    "tags": []
   },
   "outputs": [],
   "source": [
    "# load model 2\n",
    "model2 = pickle.load(open(\"../model/Model2.pkl\", \"rb\"))\n",
    "data2 = pickle.load(open(\"../model/Model2_data.pkl\", \"rb\"))\n",
    "y_test2, y_pred2, predicted_prob2, col_X_train2 = data2"
   ]
  },
  {
   "cell_type": "code",
   "execution_count": 4,
   "id": "7c559170-3463-47f4-a74e-90217113bfc8",
   "metadata": {
    "tags": []
   },
   "outputs": [],
   "source": [
    "# load model 3\n",
    "model3 = pickle.load(open(\"../model/Model3.pkl\", \"rb\"))\n",
    "data3 = pickle.load(open(\"../model/Model3_data.pkl\", \"rb\"))\n",
    "y_test3, y_pred3, predicted_prob3, col_X_train3 = data3"
   ]
  },
  {
   "cell_type": "markdown",
   "id": "c002c6e6-e5ab-40ca-9499-c26fc08e122c",
   "metadata": {},
   "source": [
    "## Evaulation Metrics"
   ]
  },
  {
   "cell_type": "code",
   "execution_count": 5,
   "id": "478b8394-d8ca-4297-a5e5-19ac6f7da644",
   "metadata": {
    "tags": []
   },
   "outputs": [],
   "source": [
    "def model_perf(model, y_test, y_pred, predicted_prob, col_X_train):\n",
    "    # Accuracy\n",
    "    print(\"Accuracy: \", round(accuracy_score(y_test, y_pred),3))\n",
    "    \n",
    "    # Precision, Recall, and F1-Score\n",
    "    print(\"Precision: \", round(precision_score(y_test, y_pred),3))\n",
    "    print(\"Recall: \", round(recall_score(y_test, y_pred),3))\n",
    "    print(\"F1: \", round(f1_score(y_test, y_pred),3))\n",
    "    \n",
    "    # AUC\n",
    "    false_positive_rate, true_positive_rate, thresholds = roc_curve(y_test.values, predicted_prob, pos_label = 1)\n",
    "    round(auc(false_positive_rate, true_positive_rate),3)\n",
    "    \n",
    "    #somers' D\n",
    "    somersd=(2*auc(false_positive_rate, true_positive_rate)) - 1\n",
    "    round(somersd, 3)\n",
    "    \n",
    "    # KS\n",
    "    df=pd.DataFrame()\n",
    "    df['real'] = y_test\n",
    "    df['proba'] = predicted_prob\n",
    "    class0 = df[df['real'] ==0 ]\n",
    "    class1 = df[df['real'] ==1 ]\n",
    "    ks = stats.ks_2samp(class0['proba'],class1['proba']).statistic\n",
    "    p  = stats.ks_2samp(class0['proba'],class1['proba']).pvalue\n",
    "    print(\"The KS is\", round(ks,3), \" (p-value:\", round(p,3),\")\")\n",
    "    \n",
    "    # Importance\n",
    "    importance = pd.DataFrame({'Feature':list(col_X_train),'Importance':model.feature_importances_})\n",
    "    importance = importance.sort_values(by=['Importance'], ascending=False)\n",
    "    print(importance)\n",
    "    "
   ]
  },
  {
   "cell_type": "code",
   "execution_count": 6,
   "id": "0b6d7d0c-97b2-46c2-8d98-0c6c305c4823",
   "metadata": {},
   "outputs": [
    {
     "name": "stdout",
     "output_type": "stream",
     "text": [
      "Accuracy:  0.808\n",
      "Precision:  0.613\n",
      "Recall:  0.368\n",
      "F1:  0.46\n",
      "The KS is 0.411  (p-value: 0.0 )\n",
      "                    Feature  Importance\n",
      "2                     PAY_0    0.329073\n",
      "3                     PAY_2    0.094201\n",
      "4                     PAY_3    0.053195\n",
      "5                     PAY_4    0.034384\n",
      "7                     PAY_6    0.034025\n",
      "6                     PAY_5    0.027029\n",
      "16                 PAY_AMT3    0.022980\n",
      "8                 BILL_AMT1    0.022753\n",
      "0                 LIMIT_BAL    0.022329\n",
      "23    EDUCATION_High School    0.022170\n",
      "19                 PAY_AMT6    0.021801\n",
      "17                 PAY_AMT4    0.021532\n",
      "15                 PAY_AMT2    0.020758\n",
      "10                BILL_AMT3    0.020616\n",
      "12                BILL_AMT5    0.020494\n",
      "14                 PAY_AMT1    0.020239\n",
      "13                BILL_AMT6    0.019729\n",
      "9                 BILL_AMT2    0.019527\n",
      "18                 PAY_AMT5    0.019091\n",
      "22       EDUCATION_Graduate    0.018841\n",
      "26         MARRIAGE_Married    0.018675\n",
      "11                BILL_AMT4    0.018424\n",
      "27           MARRIAGE_Other    0.018179\n",
      "1                       AGE    0.017891\n",
      "28          MARRIAGE_Single    0.017672\n",
      "20               SEX_Female    0.015736\n",
      "25  EDUCATION_Undergraduate    0.014647\n",
      "24          EDUCATION_Other    0.014010\n",
      "21                 SEX_Male    0.000000\n"
     ]
    }
   ],
   "source": [
    "model_perf(model1, y_test1, y_pred1, predicted_prob1, col_X_train1)"
   ]
  },
  {
   "cell_type": "code",
   "execution_count": 7,
   "id": "8afca7f3-fcea-44af-a6df-070f99f0d090",
   "metadata": {
    "tags": []
   },
   "outputs": [
    {
     "name": "stdout",
     "output_type": "stream",
     "text": [
      "Accuracy:  0.807\n",
      "Precision:  0.611\n",
      "Recall:  0.36\n",
      "F1:  0.453\n",
      "The KS is 0.401  (p-value: 0.0 )\n",
      "      Feature  Importance\n",
      "1       PAY_0    0.389861\n",
      "2       PAY_2    0.123371\n",
      "3       PAY_3    0.060994\n",
      "6       PAY_6    0.038466\n",
      "5       PAY_5    0.036866\n",
      "4       PAY_4    0.036854\n",
      "0   LIMIT_BAL    0.027243\n",
      "14   PAY_AMT2    0.026340\n",
      "7   BILL_AMT1    0.025949\n",
      "15   PAY_AMT3    0.024948\n",
      "8   BILL_AMT2    0.024279\n",
      "12  BILL_AMT6    0.024134\n",
      "18   PAY_AMT6    0.023688\n",
      "9   BILL_AMT3    0.023566\n",
      "13   PAY_AMT1    0.023476\n",
      "16   PAY_AMT4    0.023472\n",
      "11  BILL_AMT5    0.022946\n",
      "17   PAY_AMT5    0.022653\n",
      "10  BILL_AMT4    0.020896\n"
     ]
    }
   ],
   "source": [
    "model_perf(model2, y_test2, y_pred2, predicted_prob2, col_X_train2)"
   ]
  },
  {
   "cell_type": "code",
   "execution_count": 8,
   "id": "f6bb44fb-e73e-4b1b-a28c-81ee1ac79750",
   "metadata": {
    "tags": []
   },
   "outputs": [
    {
     "name": "stdout",
     "output_type": "stream",
     "text": [
      "Accuracy:  0.808\n",
      "Precision:  0.615\n",
      "Recall:  0.359\n",
      "F1:  0.453\n",
      "The KS is 0.41  (p-value: 0.0 )\n",
      "             Feature  Importance\n",
      "1              PAY_0    0.373972\n",
      "2              PAY_2    0.093899\n",
      "3              PAY_3    0.071724\n",
      "6              PAY_6    0.039192\n",
      "5              PAY_5    0.036156\n",
      "4              PAY_4    0.030997\n",
      "21   MARRIAGE_Single    0.026744\n",
      "7          BILL_AMT1    0.024895\n",
      "14          PAY_AMT2    0.024464\n",
      "15          PAY_AMT3    0.023481\n",
      "0          LIMIT_BAL    0.023159\n",
      "11         BILL_AMT5    0.022287\n",
      "18          PAY_AMT6    0.022036\n",
      "20    MARRIAGE_Other    0.021955\n",
      "8          BILL_AMT2    0.021848\n",
      "16          PAY_AMT4    0.021829\n",
      "13          PAY_AMT1    0.021622\n",
      "9          BILL_AMT3    0.021467\n",
      "17          PAY_AMT5    0.021142\n",
      "10         BILL_AMT4    0.020544\n",
      "12         BILL_AMT6    0.020460\n",
      "19  MARRIAGE_Married    0.016127\n"
     ]
    }
   ],
   "source": [
    "model_perf(model3, y_test3, y_pred3, predicted_prob3, col_X_train3)"
   ]
  },
  {
   "cell_type": "code",
   "execution_count": null,
   "id": "568f9a01-379b-42ac-9e38-25400ec996e2",
   "metadata": {},
   "outputs": [],
   "source": []
  },
  {
   "cell_type": "code",
   "execution_count": null,
   "id": "0bdbf763-04fa-4188-a5a9-6d632167d1a3",
   "metadata": {},
   "outputs": [],
   "source": []
  },
  {
   "cell_type": "code",
   "execution_count": null,
   "id": "c2077cb1-584f-4bb0-8a6d-f0bdaccc4c15",
   "metadata": {},
   "outputs": [],
   "source": []
  },
  {
   "cell_type": "code",
   "execution_count": null,
   "id": "2c1d09b1-6d1d-4a97-aa52-d46a1497d44d",
   "metadata": {},
   "outputs": [],
   "source": []
  }
 ],
 "metadata": {
  "kernelspec": {
   "display_name": "Python 3 (ipykernel)",
   "language": "python",
   "name": "python3"
  },
  "language_info": {
   "codemirror_mode": {
    "name": "ipython",
    "version": 3
   },
   "file_extension": ".py",
   "mimetype": "text/x-python",
   "name": "python",
   "nbconvert_exporter": "python",
   "pygments_lexer": "ipython3",
   "version": "3.11.6"
  }
 },
 "nbformat": 4,
 "nbformat_minor": 5
}
